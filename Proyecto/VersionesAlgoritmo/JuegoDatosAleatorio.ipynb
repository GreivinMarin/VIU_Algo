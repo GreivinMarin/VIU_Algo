{
 "cells": [
  {
   "cell_type": "code",
   "execution_count": 1,
   "id": "5958d61c-3d2e-4e52-9c70-225e7ae591e1",
   "metadata": {},
   "outputs": [
    {
     "name": "stdout",
     "output_type": "stream",
     "text": [
      "Juego aleatorio:\n",
      "Números: [3, 5, 4, 9, 2]\n",
      "Operadores: ['+', '-', '*', '/']\n",
      "Resultado fraccional: 18\n",
      "Resultado entero: 18\n"
     ]
    }
   ],
   "source": [
    "import random\n",
    "\n",
    "# Juego de datos aleatorios válidos\n",
    "digitos = random.sample(range(1, 10), 5)  # 5 números distintos del 1 al 9\n",
    "operadores = random.sample(['+', '-', '*', '/'], 4)  # 4 operadores distintos\n",
    "\n",
    "print(\"Juego aleatorio:\")\n",
    "print(\"Números:\", digitos)\n",
    "print(\"Operadores:\", operadores)\n",
    "\n",
    "\n",
    "from fractions import Fraction\n",
    "\n",
    "def aplicar_operacion(acumulado, operador, numero):\n",
    "    num_frac = Fraction(numero)\n",
    "    if operador == '+':\n",
    "        return acumulado + num_frac\n",
    "    elif operador == '-':\n",
    "        return acumulado - num_frac\n",
    "    elif operador == '*':\n",
    "        return acumulado * num_frac\n",
    "    elif operador == '/':\n",
    "        if num_frac == 0:\n",
    "            raise ZeroDivisionError\n",
    "        return acumulado / num_frac\n",
    "\n",
    "# Evaluar la expresión paso a paso\n",
    "try:\n",
    "    resultado = Fraction(digitos[0])\n",
    "    for i in range(4):\n",
    "        resultado = aplicar_operacion(resultado, operadores[i], digitos[i + 1])\n",
    "    \n",
    "    print(\"Resultado fraccional:\", resultado)\n",
    "    if resultado.denominator == 1:\n",
    "        print(\"Resultado entero:\", int(resultado))\n",
    "    else:\n",
    "        print(\"No es un resultado entero.\")\n",
    "\n",
    "except ZeroDivisionError:\n",
    "    print(\"¡División por cero!\")\n",
    "\n"
   ]
  },
  {
   "cell_type": "code",
   "execution_count": null,
   "id": "cf5e73f2-67e8-4b53-9cd5-1c07fb291099",
   "metadata": {},
   "outputs": [],
   "source": []
  }
 ],
 "metadata": {
  "kernelspec": {
   "display_name": "Python 3 (ipykernel)",
   "language": "python",
   "name": "python3"
  },
  "language_info": {
   "codemirror_mode": {
    "name": "ipython",
    "version": 3
   },
   "file_extension": ".py",
   "mimetype": "text/x-python",
   "name": "python",
   "nbconvert_exporter": "python",
   "pygments_lexer": "ipython3",
   "version": "3.12.2"
  }
 },
 "nbformat": 4,
 "nbformat_minor": 5
}
