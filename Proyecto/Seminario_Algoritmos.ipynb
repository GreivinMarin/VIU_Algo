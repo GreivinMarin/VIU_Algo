{
 "cells": [
  {
   "cell_type": "markdown",
   "metadata": {
    "id": "hVbXYX-RfPWh"
   },
   "source": [
    "# Algoritmos de optimización - Seminario<br>\n",
    "Nombre y Apellidos:  Grevin Alonso Marin Umaña  <br>\n",
    "Url: https://github.com/GreivinMarin/VIU_Algo<br>\n",
    "Nota: es el mismo repositorio para el proyecto y las actividades guiadas\n",
    "Problema: <br>\n",
    "  Combinar cifras y operaciones\n",
    "\n",
    "<ul>\n",
    "    <li>El problema consiste en analizar el siguiente problema y diseñar un algoritmo que lo resuelva.</li>\n",
    "    <li>Disponemos de las 9 cifras del 1 al 9 (excluimos el cero) y de los 4 signos básicos de las operaciones fundamentales: suma(+), resta(-), multiplicación(*) y división(/)</li>\n",
    "    <li>Debemos combinarlos alternativamente sin repetir ninguno de ellos para obtener una\n",
    "cantidad dada. Un ejemplo sería para obtener el 4: 4+2-6/3*1 = 4</li>    \n",
    "    <li>Debe analizarse el problema para encontrar todos los valores enteros posibles planteando las\n",
    "siguientes cuestiones:\n",
    "        <ul>\n",
    "            <li>¿Qué valor máximo y mínimo se pueden obtener según las condiciones del problema?</li>\n",
    "            <li>¿Es posible encontrar todos los valores enteros posibles entre dicho mínimo y máximo ?</li>\n",
    "        </ul>        \n",
    "    </li>\n",
    "    <li>Nota: Es posible usar la función de python “eval” para evaluar una expresión:</li>\n",
    "</ul>\n",
    "\n",
    "\n",
    "\n",
    "(*) La respuesta es obligatoria\n",
    "\n",
    "\n",
    "\n",
    "\n",
    "\n",
    "                                        "
   ]
  },
  {
   "cell_type": "markdown",
   "metadata": {
    "id": "3_-exlrTgLd-"
   },
   "source": [
    "<h4>(*) <span style=\"color:red\">¿Cuantas posibilidades hay sin tener en cuenta las restricciones?<br>\n",
    "¿Cuantas posibilidades hay teniendo en cuenta todas las restricciones?.</h4></span>"
   ]
  },
  {
   "cell_type": "markdown",
   "metadata": {
    "id": "WfCUqJyKhPcw"
   },
   "source": [
    "Respuesta\n",
    "\n",
    "<p>Para formar una expresión se utilizan los 9 dígitos del 1 al 9, sin repetir, además los 4 operadores básicos (+, -, *, /) también sin repetir</p>\n",
    "<ul>\n",
    "    <li>Permutaciones posibles de los dígitos: 9! = 362,880</li>\n",
    "    <li>Permutaciones posibles de los operadores: 4! = 24</li>\n",
    "    <li>Total de Expresiones: 362,880 * 24 = <b><i>8,709,120</i></b> </li>\n",
    "    <li>Total Expresiones válidas con resultado entero = <b><i>1,699,124</i></b></li>\n",
    "    <li>Duración total: <b><i>102.64 segundos (1.71 Minutos)</i></b></li>\n",
    "</ul>"
   ]
  },
  {
   "cell_type": "markdown",
   "metadata": {
    "id": "dzynfVJahHoY"
   },
   "source": [
    "Modelo para el espacio de soluciones<br>\n",
    "<h4>(*)<span style=\"color:red\">¿Cual es la estructura de datos que mejor se adapta al problema? Argumentalo.(Es posible que hayas elegido una al principio y veas la necesidad de cambiar, arguentalo)</span></h4>\n"
   ]
  },
  {
   "cell_type": "markdown",
   "metadata": {
    "id": "xFIJrOwKi2Ti"
   },
   "source": [
    "Respuesta"
   ]
  },
  {
   "cell_type": "markdown",
   "metadata": {
    "id": "38c-7-ejhJmA"
   },
   "source": [
    "<h5>itertools.permutations</h5>\n",
    "<p>No es una estructura como tal, sin embargo para la versión inicial pensé en utilizar listas puras pero usando recursividad para generar las permutaciones, sin embargo investigando mejores opciones he encontrado que usando itertools.permutations es más eficiente, ya que es un generador, consume menos memoria ya que no guarda la información y permite recorrer millones de combinaciones de manera eficient</p>\n",
    "<h5>tuplas</h5>\n",
    "<p>En el caso específico de string devuelto por las permutaciones se ha preferido utilizar tuplas en lugar de listas debido a que las tuplas son inmutables y ordernadas lo cual hace mas eficiente iterarlas cuando no se necesita modificar el contenido.</p>"
   ]
  },
  {
   "cell_type": "markdown",
   "metadata": {
    "id": "7Z9U2W7bi-XS"
   },
   "source": [
    "Según el modelo para el espacio de soluciones<br>\n",
    "<h4>(*)<span style=\"color:red\">¿Cual es la función objetivo?<span></h4>"
   ]
  },
  {
   "cell_type": "markdown",
   "metadata": {},
   "source": [
    "Respuesta\n",
    "\n",
    "<p>\n",
    "   La función objetivo en este caso sería generar todas las posibles expresiones matemáticas combinando los dígitos del 1 al 9 y los 4 operadores básicos sin repetir, evaluar cada una de estas expresiones y determinar cuando los resultados de ellas sea un número entero \n",
    "</p>"
   ]
  },
  {
   "cell_type": "markdown",
   "metadata": {},
   "source": [
    "<h4>(*)<span style=\"color:red\">¿Es un problema de maximización o minimización?</span></h4>"
   ]
  },
  {
   "cell_type": "markdown",
   "metadata": {
    "id": "hBalWLM7j1_d"
   },
   "source": [
    "Respuesta\n",
    "\n",
    "<p>\n",
    "    Ok me parece que desde el punto de vista clásico como de minimizar costes o maximizar algún beneficio este problema no tendría un enfoque o función objetivo de ese tipo, sin mebargo me parece que podríamos considerarlo como un problema de exploración con el fin de maximizar el intervalo continuo de númeors enteros alcanzables.\n",
    "</p>"
   ]
  },
  {
   "cell_type": "markdown",
   "metadata": {
    "id": "rlnTYgY1j6I2"
   },
   "source": [
    "<h4><span style=\"color:red\">Diseña un algoritmo para resolver el problema por fuerza bruta</span></h4>"
   ]
  },
  {
   "cell_type": "markdown",
   "metadata": {},
   "source": [
    "Respuesta\n",
    "\n",
    "<p>\n",
    "    Se desarrolla una versión inicial del algorito que resuelve el problema por fuerza bruta, dado que Jupyter Notebook no es la mejor herramienta para efectos de visualizar el periodo de ejecución del código Python lo he corrido en Google Colab, prácticamente es lo mismo sin embargo acá puedo visualizar el indicador de que el código se está ejecutando y cuando ya se ha terminado de ejecutar, a pesar de esto el tiempo es un tiempo corto, menos de 2 minutos. \n",
    "</p>"
   ]
  },
  {
   "cell_type": "markdown",
   "metadata": {},
   "source": [
    "![Fuerza Bruta](ImagenColab_FuerzaBruta.jpg)"
   ]
  },
  {
   "cell_type": "code",
   "execution_count": null,
   "metadata": {
    "id": "CJb5sQ0qkENy"
   },
   "outputs": [],
   "source": [
    "\"\"\" ************************************\n",
    "\n",
    " Código del algoritmo de fuerza bruta\n",
    "\n",
    "************************************ \"\"\"\n",
    "import itertools\n",
    "import time\n",
    "\n",
    "# Iniciar el cronómetro\n",
    "inicio = time.time()\n",
    "\n",
    "# Paso 1: Generar permutaciones\n",
    "digitos = [str(i) for i in range(1, 10)]\n",
    "operadores = ['+', '-', '*', '/']\n",
    "\n",
    "permutaciones_digitos = itertools.permutations(digitos)  # Generador\n",
    "permutaciones_operadores = list(itertools.permutations(operadores))  # Lista (4! = 24 elementos)\n",
    "\n",
    "# Paso 2: Inicializar contadores\n",
    "contador_total = 0\n",
    "contador_validas = 0\n",
    "\n",
    "# Paso 3: Evaluar expresiones\n",
    "for d in permutaciones_digitos:\n",
    "    for o in permutaciones_operadores:\n",
    "        # Construir expresión\n",
    "        expr = d[0]\n",
    "        for i in range(4):\n",
    "            expr += o[i] + d[i + 1]\n",
    "        for j in range(5, 9):\n",
    "            expr += d[j]\n",
    "        \n",
    "        contador_total += 1\n",
    "        \n",
    "        try:\n",
    "            resultado = eval(expr)\n",
    "            if isinstance(resultado, int) or resultado.is_integer():\n",
    "                contador_validas += 1\n",
    "        except ZeroDivisionError:\n",
    "            continue\n",
    "\n",
    "# Detener cronómetro\n",
    "fin = time.time()\n",
    "duracion = fin - inicio\n",
    "\n",
    "# Paso 4: Mostrar resultados\n",
    "print(f\"Total de expresiones generadas: {contador_total}\")\n",
    "print(f\"Expresiones válidas con resultado entero: {contador_validas}\")\n",
    "print(f\"Duración total: {duracion:.2f} segundos ({duracion / 60:.2f} minutos)\")\n"
   ]
  },
  {
   "cell_type": "markdown",
   "metadata": {
    "id": "tgrnsC2nkFa8"
   },
   "source": [
    "<h4><span style=\"color:red\">Calcula la complejidad del algoritmo por fuerza bruta</span></h4>"
   ]
  },
  {
   "cell_type": "markdown",
   "metadata": {
    "id": "9eUd3xwckP68"
   },
   "source": [
    "Respuesta"
   ]
  },
  {
   "cell_type": "code",
   "execution_count": null,
   "metadata": {
    "id": "rvZWwL-ckRST"
   },
   "outputs": [],
   "source": []
  },
  {
   "cell_type": "markdown",
   "metadata": {
    "id": "txbrmLmskReM"
   },
   "source": [
    "<h4>(*) <span style=\"color:red\">Diseña un algoritmo que mejore la complejidad del algortimo por fuerza bruta. Argumenta porque crees que mejora el algoritmo por fuerza bruta</span></h4>"
   ]
  },
  {
   "cell_type": "markdown",
   "metadata": {
    "id": "hLrVwt5QkZPD"
   },
   "source": [
    "Respuesta"
   ]
  },
  {
   "cell_type": "code",
   "execution_count": null,
   "metadata": {
    "id": "m1eyM21Vkabg"
   },
   "outputs": [],
   "source": []
  },
  {
   "cell_type": "markdown",
   "metadata": {
    "id": "eGDB4K6uk1iN"
   },
   "source": [
    "(*)Calcula la complejidad del algoritmo"
   ]
  },
  {
   "cell_type": "markdown",
   "metadata": {
    "id": "NhpTh_BPk1ms"
   },
   "source": [
    "Respuesta"
   ]
  },
  {
   "cell_type": "code",
   "execution_count": null,
   "metadata": {
    "id": "nREzhkStlCq8"
   },
   "outputs": [],
   "source": []
  },
  {
   "cell_type": "markdown",
   "metadata": {
    "id": "3M6QjTsSkmYe"
   },
   "source": [
    "Según el problema (y tenga sentido), diseña un juego de datos de entrada aleatorios"
   ]
  },
  {
   "cell_type": "markdown",
   "metadata": {
    "id": "Jc3_OlyNkvjZ"
   },
   "source": [
    "Respuesta"
   ]
  },
  {
   "cell_type": "code",
   "execution_count": null,
   "metadata": {
    "id": "sJ-N2etjkyWc"
   },
   "outputs": [],
   "source": []
  },
  {
   "cell_type": "markdown",
   "metadata": {
    "id": "zy5ZROmjlGo1"
   },
   "source": [
    "Aplica el algoritmo al juego de datos generado"
   ]
  },
  {
   "cell_type": "markdown",
   "metadata": {
    "id": "_Cmj-PVylMsa"
   },
   "source": [
    "Respuesta"
   ]
  },
  {
   "cell_type": "code",
   "execution_count": null,
   "metadata": {
    "id": "Jkx8GeiYlUz1"
   },
   "outputs": [],
   "source": []
  },
  {
   "cell_type": "markdown",
   "metadata": {
    "id": "eTFWUJQrtGcv"
   },
   "source": [
    "Enumera las referencias que has utilizado(si ha sido necesario) para llevar a cabo el trabajo"
   ]
  },
  {
   "cell_type": "markdown",
   "metadata": {
    "id": "YKQ_mRBttWsP"
   },
   "source": [
    "Respuesta"
   ]
  },
  {
   "cell_type": "markdown",
   "metadata": {
    "id": "kAkDPUyRtYyH"
   },
   "source": [
    "Describe brevemente las lineas de como crees que es posible avanzar en el estudio del problema. Ten en cuenta incluso posibles variaciones del problema y/o variaciones al alza del tamaño"
   ]
  },
  {
   "cell_type": "markdown",
   "metadata": {
    "id": "IE0uZmo-tZu-"
   },
   "source": [
    "Respuesta"
   ]
  },
  {
   "cell_type": "code",
   "execution_count": null,
   "metadata": {},
   "outputs": [],
   "source": [
    "Debe analizarse el problema para encontrar todos los valores enteros posibles planteando las\n",
    "siguientes cuestiones:\n",
    "- ¿Qué valor máximo y mínimo se pueden obtener según las condiciones del problema?\n",
    "- ¿Es posible encontrar todos los valores enteros posibles entre dicho mínimo y máximo ?"
   ]
  },
  {
   "cell_type": "code",
   "execution_count": null,
   "metadata": {},
   "outputs": [],
   "source": [
    "Respuesta"
   ]
  },
  {
   "cell_type": "code",
   "execution_count": null,
   "metadata": {},
   "outputs": [],
   "source": []
  }
 ],
 "metadata": {
  "colab": {
   "provenance": []
  },
  "kernelspec": {
   "display_name": "Python 3 (ipykernel)",
   "language": "python",
   "name": "python3"
  },
  "language_info": {
   "codemirror_mode": {
    "name": "ipython",
    "version": 3
   },
   "file_extension": ".py",
   "mimetype": "text/x-python",
   "name": "python",
   "nbconvert_exporter": "python",
   "pygments_lexer": "ipython3",
   "version": "3.12.2"
  }
 },
 "nbformat": 4,
 "nbformat_minor": 4
}
