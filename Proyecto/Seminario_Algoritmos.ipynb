{
 "cells": [
  {
   "cell_type": "markdown",
   "metadata": {
    "id": "hVbXYX-RfPWh"
   },
   "source": [
    "# Algoritmos de optimización - Seminario<br>\n",
    "Nombre y Apellidos:  Grevin Alonso Marin Umaña  <br>\n",
    "Url: https://github.com/GreivinMarin/VIU_Algo<br>\n",
    "Nota: es el mismo repositorio para el proyecto y las actividades guiadas\n",
    "Problema: <br>\n",
    "  Combinar cifras y operaciones\n",
    "\n",
    "<ul>\n",
    "    <li>El problema consiste en analizar el siguiente problema y diseñar un algoritmo que lo resuelva.</li>\n",
    "    <li>Disponemos de las 9 cifras del 1 al 9 (excluimos el cero) y de los 4 signos básicos de las operaciones fundamentales: suma(+), resta(-), multiplicación(*) y división(/)</li>\n",
    "    <li>Debemos combinarlos alternativamente sin repetir ninguno de ellos para obtener una\n",
    "cantidad dada. Un ejemplo sería para obtener el 4: 4+2-6/3*1 = 4</li>    \n",
    "    <li>Debe analizarse el problema para encontrar todos los valores enteros posibles planteando las\n",
    "siguientes cuestiones:\n",
    "        <ul>\n",
    "            <li>¿Qué valor máximo y mínimo se pueden obtener según las condiciones del problema?</li>\n",
    "            <li>¿Es posible encontrar todos los valores enteros posibles entre dicho mínimo y máximo ?</li>\n",
    "        </ul>        \n",
    "    </li>\n",
    "    <li>Nota: Es posible usar la función de python “eval” para evaluar una expresión:</li>\n",
    "</ul>\n",
    "\n",
    "\n",
    "\n",
    "(*) La respuesta es obligatoria\n",
    "\n",
    "\n",
    "\n",
    "\n",
    "\n",
    "                                        "
   ]
  },
  {
   "cell_type": "markdown",
   "metadata": {
    "id": "3_-exlrTgLd-"
   },
   "source": [
    "<h4>(*) <span style=\"color:red\">¿Cuantas posibilidades hay sin tener en cuenta las restricciones?</h4></span>"
   ]
  },
  {
   "cell_type": "markdown",
   "metadata": {
    "id": "WfCUqJyKhPcw"
   },
   "source": [
    "Respuesta\n",
    "\n",
    "<p>¿Cuántas formas hay de combinar números y operadores sin importar si se repiten o no, o si están alternados correctamente?</p>\n",
    "<h4>Supuestos Mínimos</h4>\n",
    "<ul>\n",
    "    <li>Queremos formar una expresión con 5 números y 4 operadores.</li>\n",
    "    <li>Elegimos números del 1 al 9, con repetición permitida.</li>\n",
    "    <li>Elegimos operadores entre + - * /, también con repetición permitida.</i></b> </li>\n",
    "</ul>\n",
    "\n",
    "<h4>Entonces:</h4>\n",
    "<li>Cantidad de formas de escoger 5 números (con repetición): <b><i>9^5 = 59,049</i></b></li>\n",
    "<li>Cantidad de formas de escoger 4 operadores (con repetición): <b><i>4^4 = 256</i></b></li>\n",
    "<li>Total sin restricciones: <b><i>9^5 = 59,049 * 4^4 = 256 = 15,119,744</i></b></li>\n"
   ]
  },
  {
   "cell_type": "markdown",
   "metadata": {},
   "source": [
    "<h4>(*) <span style=\"color:red\">¿Cuantas posibilidades hay teniendo en cuenta todas las restricciones?.</h4></span>"
   ]
  },
  {
   "cell_type": "markdown",
   "metadata": {},
   "source": [
    "Respuesta\n",
    "\n",
    "<p>Restricciones</p>\n",
    "<ul>\n",
    "    <li>Usar 5 números distintos tomados del 1 al 9 (sin repetir)</li>\n",
    "    <li>Eso es una permutación de 5 elementos de un conjunto de 9: P(9,5)=9×8×7×6×5=15,120</li>\n",
    "    <li>Usar los 4 operadores + - * /, sin repetir y en cualquier orden: 4!=24</i>\n",
    "    <li>Solo se permiten expresiones estrictamente alternadas, y cada número/operador solo se usa una vez por expresión (ya cubierto arriba).</li>\n",
    "    <li>total: <b><i>15,120 (permutaciones de números) * 24 (permutaciones de operadores) = 362,880 expresiones posibles</i></b></li>\n",
    "</ul>"
   ]
  },
  {
   "cell_type": "markdown",
   "metadata": {
    "id": "dzynfVJahHoY"
   },
   "source": [
    "Modelo para el espacio de soluciones<br>\n",
    "<h4>(*)<span style=\"color:red\">¿Cual es la estructura de datos que mejor se adapta al problema? Argumentalo.(Es posible que hayas elegido una al principio y veas la necesidad de cambiar, arguentalo)</span></h4>\n"
   ]
  },
  {
   "cell_type": "markdown",
   "metadata": {
    "id": "xFIJrOwKi2Ti"
   },
   "source": [
    "Respuesta"
   ]
  },
  {
   "cell_type": "markdown",
   "metadata": {
    "id": "38c-7-ejhJmA"
   },
   "source": [
    "<h5>itertools.permutations</h5>\n",
    "<p>No es una estructura como tal, sin embargo para la versión inicial pensé en utilizar listas puras pero usando recursividad para generar las permutaciones, sin embargo investigando mejores opciones he encontrado que usando itertools.permutations es más eficiente, ya que es un generador, consume menos memoria ya que no guarda la información y permite recorrer millones de combinaciones de manera eficient</p>\n",
    "<h5>tuplas</h5>\n",
    "<p>En el caso específico de string devuelto por las permutaciones se ha preferido utilizar tuplas en lugar de listas debido a que las tuplas son inmutables y ordernadas lo cual hace mas eficiente iterarlas cuando no se necesita modificar el contenido.</p>"
   ]
  },
  {
   "cell_type": "markdown",
   "metadata": {
    "id": "7Z9U2W7bi-XS"
   },
   "source": [
    "Según el modelo para el espacio de soluciones<br>\n",
    "<h4>(*)<span style=\"color:red\">¿Cual es la función objetivo?<span></h4>"
   ]
  },
  {
   "cell_type": "markdown",
   "metadata": {},
   "source": [
    "Respuesta\n",
    "\n",
    "<p>\n",
    "Evaluar todas las expresiones válidas (usando 5 dígitos del 1 al 9 y 4 operadores distintos alternados), y maximizar y minimizar el resultado entero obtenido.</br> \n",
    "f(números,operadores) = resultado entero de la expresión evaluada\n",
    "</p>\n",
    "<h4>Sujeta a:</h4>\n",
    "<ul>\n",
    "    <li>Los 5 números son distintos, seleccionados del conjunto {1, ..., 9}.</li>\n",
    "    <li>Los 4 operadores son una permutación de {+, −, *, /}.</li>\n",
    "    <li>La expresión alterna número-operador-número-operador-…-número.</li>\n",
    "    <li>El resultado debe ser un número entero.</li>\n",
    "</ul>\n",
    "\n",
    "\n"
   ]
  },
  {
   "cell_type": "markdown",
   "metadata": {},
   "source": [
    "<h4>(*)<span style=\"color:red\">¿Es un problema de maximización o minimización?</span></h4>"
   ]
  },
  {
   "cell_type": "markdown",
   "metadata": {
    "id": "hBalWLM7j1_d"
   },
   "source": [
    "Respuesta\n",
    "\n",
    "<p>\n",
    "   Este es un problema de optimización que incluye tanto maximización como minimización. La función objetivo es el resultado entero de evaluar cada expresión válida formada por 5 dígitos distintos (del 1 al 9) y 4 operadores distintos (+ - * /) colocados alternadamente.\n",
    "</p>\n",
    "\n",
    "<h4>Se busca</h4>\n",
    "<ul>\n",
    "    <li>Maximizar ese resultado para encontrar el valor más alto posible.</li>\n",
    "    <li>Minimizar ese resultado para encontrar el valor más bajo posible.</li>\n",
    "</ul>"
   ]
  },
  {
   "cell_type": "markdown",
   "metadata": {
    "id": "rlnTYgY1j6I2"
   },
   "source": [
    "<h4><span style=\"color:red\">Diseña un algoritmo para resolver el problema por fuerza bruta</span></h4>"
   ]
  },
  {
   "cell_type": "markdown",
   "metadata": {},
   "source": [
    "Respuesta\n",
    "\n",
    "<p>\n",
    "    Se desarrolla una versión inicial del algorito que resuelve el problema por fuerza bruta. \n",
    "</p>"
   ]
  },
  {
   "cell_type": "code",
   "execution_count": 3,
   "metadata": {
    "id": "CJb5sQ0qkENy"
   },
   "outputs": [
    {
     "name": "stdout",
     "output_type": "stream",
     "text": [
      "Duración total: 143.38 segundos (~2.39 minutos)\n",
      "Total de expresiones evaluadas: 362880\n",
      "Cantidad de resultados enteros únicos: 147\n",
      "Valor mínimo entero encontrado: -69\n",
      "Valor máximo entero encontrado: 77\n",
      "No hay huecos: todos los enteros entre mínimo y máximo están presentes.\n"
     ]
    }
   ],
   "source": [
    "\"\"\" ************************************\n",
    "\n",
    " Código del algoritmo de fuerza bruta\n",
    "\n",
    "************************************ \"\"\"\n",
    "import itertools\n",
    "import time\n",
    "\n",
    "# Iniciar cronómetro\n",
    "inicio = time.time()\n",
    "\n",
    "# Conjunto de cifras del 1 al 9 como strings\n",
    "digitos = [str(i) for i in range(1, 10)]\n",
    "\n",
    "# Conjunto de operadores posibles\n",
    "operadores = ['+', '-', '*', '/']\n",
    "\n",
    "# Conjunto para almacenar los resultados enteros únicos\n",
    "resultados_enteros = set()\n",
    "\n",
    "total_exp = 0  # contador de expresiones evaluadas\n",
    "\n",
    "# Generar todas las permutaciones posibles de 5 dígitos sin repetir\n",
    "for numeros in itertools.permutations(digitos, 5):\n",
    "    \n",
    "    # Generar todas las permutaciones posibles de 4 operadores sin repetir\n",
    "    for ops in itertools.permutations(operadores, 4):\n",
    "        \n",
    "        # Construir la expresión alternando número-operador\n",
    "        expresion = ''\n",
    "        for i in range(4):\n",
    "            expresion += numeros[i] + ops[i]\n",
    "        expresion += numeros[4]  # último número\n",
    "\n",
    "        try:\n",
    "            resultado = eval(expresion)\n",
    "            if resultado == int(resultado):  # si es entero\n",
    "                resultados_enteros.add(int(resultado))\n",
    "        except ZeroDivisionError:\n",
    "            continue  # ignorar divisiones por cero\n",
    "        except Exception:\n",
    "            continue  # capturar otros errores inesperados\n",
    "        \n",
    "        total_exp += 1\n",
    "\n",
    "# Finalizar cronometro y calcular duración\n",
    "fin = time.time()\n",
    "duracion = fin - inicio\n",
    "\n",
    "\"\"\" ******************************************\n",
    "\n",
    "De acá hacia abajo el código para la búsqueda\n",
    "\n",
    "****************************************** \"\"\"\n",
    "\n",
    "\n",
    "# Mostrar resultados\n",
    "print(f\"Duración total: {duracion:.2f} segundos (~{duracion/60:.2f} minutos)\")\n",
    "print(f\"Total de expresiones evaluadas: {total_exp}\")\n",
    "print(f\"Cantidad de resultados enteros únicos: {len(resultados_enteros)}\")\n",
    "\n",
    "minimo = min(resultados_enteros)\n",
    "maximo = max(resultados_enteros)\n",
    "\n",
    "print(f\"Valor mínimo entero encontrado: {minimo}\")\n",
    "print(f\"Valor máximo entero encontrado: {maximo}\")\n",
    "\n",
    "# Revisar si hay huecos\n",
    "faltantes = [i for i in range(minimo, maximo + 1) if i not in resultados_enteros]\n",
    "if faltantes:\n",
    "    print(\"Valores enteros faltantes entre mínimo y máximo:\")\n",
    "    print(faltantes)\n",
    "else:\n",
    "    print(\"No hay huecos: todos los enteros entre mínimo y máximo están presentes.\")"
   ]
  },
  {
   "cell_type": "markdown",
   "metadata": {
    "id": "tgrnsC2nkFa8"
   },
   "source": [
    "<h4><span style=\"color:red\">Calcula la complejidad del algoritmo por fuerza bruta</span></h4>"
   ]
  },
  {
   "cell_type": "markdown",
   "metadata": {
    "id": "9eUd3xwckP68"
   },
   "source": [
    "Respuesta"
   ]
  },
  {
   "cell_type": "markdown",
   "metadata": {
    "id": "rvZWwL-ckRST"
   },
   "source": [
    "<p>\n",
    "    Ok, yo considero que la parte principal y la que lleva más trabajo de procesamiento computacional es la parte de las permutaciones, si bien es cierto luego de generar y evaluar las permutaciones se hace un proceso de revisión sobre esos resultados, el cual sería de complejidad lineal O(n), me parece que el algoritmo debe ser considerado de Orden Factorial debido a la parte de las permutaciones.</br>\n",
    "La formula sería: P(n,k)= n! / (n−k)!, Si usaramos todos los dígitos se tendría que evaluar: P(9,9)=9!=362,880\n",
    "</br>\n",
    "Así que según la teoría de este curso haciendo referencia al capítulo 1 apartado 4.2 (Ordenes de complejidad) este algoritmo de fuerza bruta es de \n",
    "</p>\n",
    "<h4>Orden Factorial O(n!)</h4>\n",
    "<p>\n",
    "    Este tipo de complejidad crece más rápido que los órdenes exponenciales, haciendolo prácticamente inviable cuando tenemos valores de n mayores a 9 o 10\n",
    "</p>"
   ]
  },
  {
   "cell_type": "markdown",
   "metadata": {
    "id": "txbrmLmskReM"
   },
   "source": [
    "<h4>(*) <span style=\"color:red\">Diseña un algoritmo que mejore la complejidad del algortimo por fuerza bruta. Argumenta porque crees que mejora el algoritmo por fuerza bruta</span></h4>"
   ]
  },
  {
   "cell_type": "markdown",
   "metadata": {
    "id": "hLrVwt5QkZPD"
   },
   "source": [
    "Respuesta"
   ]
  },
  {
   "cell_type": "markdown",
   "metadata": {
    "id": "m1eyM21Vkabg"
   },
   "source": [
    "<h2>Intentos de Mejora al algoritmo de fuerza bruta</h2>\n",
    "<p>\n",
    "    Ok, acá es importante registrar los diferentes intentos y los situaciones encontradas en dichos intentos de mejora.</br>\n",
    "    <span style=\"color:green\"><b><i>IMPORTANTE:</i></b>Las diferentes versiones del algoritmo se van a agregar en una carpeta llamada \"VersionesAlgoritmo\" dentro del repositorio, para no hacer este documento muy grando agregando el código de todas las versiones y cambios</span>\n",
    "</p>\n",
    "<h4>Filtrar las operaciones que tengan division por cero</h4>\n",
    "<p>\n",
    "    A la versión inicial del algoritmo de fuerza bruta se le ha agregado un try/catch para controlar el error en caso de que alguna operación de error de división por cero, en algún momento pensé que en una gran mayoría de corridas o de las evaluaciones de las expresiones se iba a estar disparando este error, sin embargo me he llevado las sorpresa de que no es así.</br>\n",
    "  Primero dado que al estar considerando solamente los números del 1 al 9 pues no hay posibilidad que alguna de las expresiones generadas quede con una división por cero. por lo que el agregar una restricción o filtro if \"/0\" in expr no sirvió de nada.</br>\n",
    "  Segundo, pensé que al tratarse de una generación de más de 362 mil de expresiones la cantidad de resultados, al evaluar expresiones internas, que iban a generar una división por cero sería mayor, pero he corrido el algoritmo en múltiples ocasiones y hasta el momento no se ha dado ninguna.\n",
    "</br>\n",
    "Apesar de esto pues he agregado la versión del código con estas modificaciones para evidenciar este primer intento fallido de optimización del algoritmo.\n",
    "\n",
    "</p>\n",
    "\n",
    "<h4>Uso de método Franctions.fraction() en lugar de eval()</h4>\n",
    "<p>\n",
    "    Investigando un poco he visto que de la librería Fractions el método Fraction es más eficiente que el método eval() para determinar enteros, recordando que solo debemos considerar números enteros en los resultados de las permutaciones, podemos notar que efectivamente hubo una gran mejoría en el tiempo de ejecución, de 3.4 minutos a solo 5.30 segundos, ahora bien tenemos resultados diferentes, sin embargo esto se justifica, incluso diría que el resultado con Fraction es más eficiente desde el punto de vista matemático ya que usando eval podríamos obtener valores que por redondeo no son enteros, por ejemplo 4.0000000001 o 3.999999999 podría termnar redondeándose a 4 y ser retornado como parte de los resultados, con Fraction se están usando franciones exactas lo que evita el asunto del redondeo. y al final se considera solo si el denominador es = 1 (un entero exacto). con este cambio tuvimos mejora de tiempo aún que se determina que si queda \"huecos\" o valores no obtenidos entre el mínimo y máximo\n",
    "</p>\n",
    "\n",
    "<h4>Evaluación parcial con backtraking</h4>\n",
    "<p>\n",
    "    Este enfoque me pareció interesante ya que podemos segmentar la expresión completa, verificar resultados parciales y en caso de encontrar un resultado parcial que nos afecte el resto de la expresión simplemente se descarta y no se continua con evaluación de la expresión completa, es decir no se continía con esa rama de evaluación y se regresa para continuar con la siguiente rama. En este caso al menos en mi equipo local se ha logrado una mejora en el tiempo del procesamiento, de 5.3 segundos a 3.4 segundos.\n",
    "</p>\n",
    "\n",
    "<h4>Poda Heurística</h4>\n",
    "<p>\n",
    "    En esta versión se hace una poda heurística, simplemente validamos las operaciones de multiplicación y división, en el caso de la multiplicación podamos las multiplicaciones por el número cero o por el número 1, que al final no tiene tanto sentido evaluarlas, para el caso de las divisiones estamos podando cualquier expresión que divida por cero o cuyo residuo sea diferente de cero.</br>\n",
    "    Acá hemos encontrado que obtuvimos una mejoría en el tiempo de procesamiento de 3.4 segundos a solo 3 segundos, sin embargo si se vio impactado el resultado ahora tenemos faltantes de al menos 10 valores entre el mínimo y el máximo. En este caso creo que debemos evaluar lo que se quiere lograr con el algoritmo, si el objetivo es encontrar todos lo números enteros posibles creo que esta poda es muy agresiva y no nos va a funcionar adecuadamente, ahora si lo que buscamos es una mejoría en el rendimiento podemos observar que hubo una mejora de alrededor de un 22% del tiempo, lo cual no es nada despreciable y podemos considerar que estamos obteniendo un subconjunto representativo del espacio de soluciones.</br>\n",
    "    Para efectos de este proyecto descartaré esta tercera versión me quedaré con la versión 2.\n",
    "</p>\n"
   ]
  },
  {
   "cell_type": "code",
   "execution_count": 6,
   "metadata": {},
   "outputs": [
    {
     "name": "stdout",
     "output_type": "stream",
     "text": [
      "Duración total: 3.52 segundos (~0.06 minutos)\n",
      "Total de expresiones evaluadas: 362880\n",
      "Cantidad de resultados enteros únicos: 198\n",
      "Valor mínimo entero encontrado: -68\n",
      "Valor máximo entero encontrado: 133\n",
      "Hay 4 valores faltantes entre mínimo y máximo:\n",
      "[107, 120, 127, 128]\n"
     ]
    }
   ],
   "source": [
    "import itertools\n",
    "import time\n",
    "from fractions import Fraction\n",
    "\n",
    "# Iniciar cronómetro\n",
    "inicio = time.time()\n",
    "\n",
    "# Lista de todos los dígitos disponibles\n",
    "digitos = [1, 2, 3, 4, 5, 6, 7, 8, 9]\n",
    "\n",
    "# Lista de operadores disponibles\n",
    "operadores = ['+', '-', '*', '/']\n",
    "\n",
    "# Conjunto para almacenar resultados enteros únicos\n",
    "resultados_enteros = set()\n",
    "\n",
    "# Contador de expresiones evaluadas\n",
    "total_exp = 0\n",
    "\n",
    "def aplicar_operacion(acumulado: Fraction, operador: str, numero: int):\n",
    "    num_frac = Fraction(numero)\n",
    "    if operador == '+':\n",
    "        return acumulado + num_frac\n",
    "    elif operador == '-':\n",
    "        return acumulado - num_frac\n",
    "    elif operador == '*':\n",
    "        return acumulado * num_frac\n",
    "    elif operador == '/':\n",
    "        if num_frac == 0:\n",
    "            raise ZeroDivisionError\n",
    "        return acumulado / num_frac\n",
    "\n",
    "# Función recursiva para backtracking con evaluación parcial\n",
    "def backtrack(numeros, operadores_usados, pos, resultado_parcial):\n",
    "    global total_exp\n",
    "\n",
    "    if pos == 5:\n",
    "        # Ya hay 5 números y 4 operadores → resultado final\n",
    "        if resultado_parcial.denominator == 1:\n",
    "            resultados_enteros.add(int(resultado_parcial))\n",
    "        total_exp += 1\n",
    "        return\n",
    "\n",
    "    for i, op in enumerate(['+', '-', '*', '/']):\n",
    "        if op in operadores_usados:\n",
    "            continue  # no repetir operadores\n",
    "\n",
    "        try:\n",
    "            nuevo_resultado = aplicar_operacion(resultado_parcial, op, numeros[pos])\n",
    "            backtrack(numeros, operadores_usados + [op], pos + 1, nuevo_resultado)\n",
    "        except ZeroDivisionError:\n",
    "            continue\n",
    "        except Exception:\n",
    "            continue\n",
    "\n",
    "# Generar todas las permutaciones posibles de 5 números distintos del 1 al 9\n",
    "for perm in itertools.permutations(digitos, 5):\n",
    "    # Empezamos desde el primer número\n",
    "    resultado_inicial = Fraction(perm[0])\n",
    "    backtrack(perm, [], 1, resultado_inicial)\n",
    "\n",
    "# Finalizar cronometro y calcular duración\n",
    "fin = time.time()\n",
    "duracion = fin - inicio\n",
    "\n",
    "\n",
    "\n",
    "\"\"\" ******************************************\n",
    "\n",
    "De acá hacia abajo el código para la búsqueda\n",
    "\n",
    "****************************************** \"\"\"\n",
    "\n",
    "\n",
    "print(f\"Duración total: {duracion:.2f} segundos (~{duracion/60:.2f} minutos)\")\n",
    "print(f\"Total de expresiones evaluadas: {total_exp}\")\n",
    "print(f\"Cantidad de resultados enteros únicos: {len(resultados_enteros)}\")\n",
    "\n",
    "minimo = min(resultados_enteros)\n",
    "maximo = max(resultados_enteros)\n",
    "\n",
    "print(f\"Valor mínimo entero encontrado: {minimo}\")\n",
    "print(f\"Valor máximo entero encontrado: {maximo}\")\n",
    "\n",
    "# Verificar si hay huecos\n",
    "faltantes = [i for i in range(minimo, maximo + 1) if i not in resultados_enteros]\n",
    "if faltantes:\n",
    "    print(f\"Hay {len(faltantes)} valores faltantes entre mínimo y máximo:\")\n",
    "    print(faltantes)\n",
    "else:\n",
    "    print(\"No hay huecos: todos los enteros entre mínimo y máximo están presentes.\")\n",
    "\n"
   ]
  },
  {
   "cell_type": "markdown",
   "metadata": {
    "id": "eGDB4K6uk1iN"
   },
   "source": [
    "<h4>(*)<span style=\"color:red\">Calcula la complejidad del algoritmo</span></h4>"
   ]
  },
  {
   "cell_type": "markdown",
   "metadata": {
    "id": "NhpTh_BPk1ms"
   },
   "source": [
    "Respuesta"
   ]
  },
  {
   "cell_type": "markdown",
   "metadata": {
    "id": "nREzhkStlCq8"
   },
   "source": [
    "<p>\n",
    "    En la versión optimizada el algoritmo no genera todas las expresiones de entrada sino que las construye recursivamente y el número de llamadas depende de la cantidad de pasos válidos desde cada nodo.</br>\n",
    "    Al usar n = 9 y tomar 5 dígitos se tienen O(n^5) caminos posibles</br>\n",
    "    Aunque el total sigan siendo 262,880 combinaciones el enfoque reduce significativamente el costo interno de cada evaluación, el order de coplejidad es: </br>\n",
    "</p>\n",
    "<h4>O(n^5) Orden polinomial</h4>"
   ]
  },
  {
   "cell_type": "markdown",
   "metadata": {},
   "source": [
    "<h4>Tabla comparativa entre todas las versiones trabajadas en este proyecto</h4></br>\n",
    "<table>\n",
    "  <thead>\n",
    "    <tr>\n",
    "      <th>Versión</th>\n",
    "      <th>Estrategia</th>\n",
    "      <th>Complejidad asintótica</th>\n",
    "      <th>Comentario</th>\n",
    "    </tr>\n",
    "  </thead>\n",
    "  <tbody>\n",
    "    <tr>\n",
    "      <td>Fuerza bruta con <code>eval()</code></td>\n",
    "      <td>Permutaciones completas + evaluación con <code>eval()</code></td>\n",
    "      <td><code>O(n!)</code> (orden factorial)</td>\n",
    "      <td>Evalúa todas las combinaciones posibles sin filtrado, con imprecisión por flotantes</td>\n",
    "    </tr>\n",
    "    <tr>\n",
    "      <td>Fuerza bruta con <code>Fraction</code></td>\n",
    "      <td>Permutaciones completas + evaluación con <code>fractions.Fraction</code></td>\n",
    "      <td><code>O(n!)</code> (orden factorial)</td>\n",
    "      <td>Mismo espacio de búsqueda que la fuerza bruta, pero con mayor precisión numérica</td>\n",
    "    </tr>\n",
    "    <tr>\n",
    "      <td>Backtracking sin poda</td>\n",
    "      <td>Construcción recursiva paso a paso + evaluación parcial con <code>Fraction</code></td>\n",
    "      <td><code>O(n<sup>5</sup>)</code> (orden polinomial)</td>\n",
    "      <td>Mismo número total de expresiones, pero más rápido al evitar construcción de strings y <code>eval()</code></td>\n",
    "    </tr>\n",
    "    <tr>\n",
    "      <td>Backtracking con poda heurística</td>\n",
    "      <td>Recursión + poda anticipada según reglas numéricas</td>\n",
    "      <td><code>O(n<sup>5</sup>)</code> (igual teóricamente)</td>\n",
    "      <td>Reduce el tiempo de ejecución al evitar combinaciones inútiles, pero puede perder exactitud</td>\n",
    "    </tr>\n",
    "  </tbody>\n",
    "</table>\n"
   ]
  },
  {
   "cell_type": "markdown",
   "metadata": {
    "id": "3M6QjTsSkmYe"
   },
   "source": [
    "<h4><span style=\"color:red\">Según el problema (y tenga sentido), diseña un juego de datos de entrada aleatorios</span></h4>"
   ]
  },
  {
   "cell_type": "markdown",
   "metadata": {
    "id": "Jc3_OlyNkvjZ"
   },
   "source": [
    "Respuesta"
   ]
  },
  {
   "cell_type": "code",
   "execution_count": null,
   "metadata": {
    "id": "sJ-N2etjkyWc"
   },
   "outputs": [],
   "source": []
  },
  {
   "cell_type": "markdown",
   "metadata": {
    "id": "zy5ZROmjlGo1"
   },
   "source": [
    "<h4><span style=\"color:red\">Aplica el algoritmo al juego de datos generado</span></h4>"
   ]
  },
  {
   "cell_type": "markdown",
   "metadata": {
    "id": "_Cmj-PVylMsa"
   },
   "source": [
    "Respuesta"
   ]
  },
  {
   "cell_type": "code",
   "execution_count": null,
   "metadata": {
    "id": "Jkx8GeiYlUz1"
   },
   "outputs": [],
   "source": []
  },
  {
   "cell_type": "markdown",
   "metadata": {
    "id": "eTFWUJQrtGcv"
   },
   "source": [
    "<h4><span style=\"color:red\">Enumera las referencias que has utilizado(si ha sido necesario) para llevar a cabo el trabajo</span></h4>"
   ]
  },
  {
   "cell_type": "markdown",
   "metadata": {
    "id": "YKQ_mRBttWsP"
   },
   "source": [
    "Respuesta"
   ]
  },
  {
   "cell_type": "markdown",
   "metadata": {
    "id": "kAkDPUyRtYyH"
   },
   "source": [
    "<h4><span style=\"color:red\">Describe brevemente las lineas de como crees que es posible avanzar en el estudio del problema. Ten en cuenta incluso posibles variaciones del problema y/o variaciones al alza del tamaño</span></h4>"
   ]
  },
  {
   "cell_type": "markdown",
   "metadata": {
    "id": "IE0uZmo-tZu-"
   },
   "source": [
    "Respuesta"
   ]
  },
  {
   "cell_type": "code",
   "execution_count": null,
   "metadata": {},
   "outputs": [],
   "source": [
    "Debe analizarse el problema para encontrar todos los valores enteros posibles planteando las\n",
    "siguientes cuestiones:\n",
    "- ¿Qué valor máximo y mínimo se pueden obtener según las condiciones del problema?\n",
    "- ¿Es posible encontrar todos los valores enteros posibles entre dicho mínimo y máximo ?"
   ]
  },
  {
   "cell_type": "code",
   "execution_count": null,
   "metadata": {},
   "outputs": [],
   "source": [
    "Respuesta"
   ]
  },
  {
   "cell_type": "code",
   "execution_count": null,
   "metadata": {},
   "outputs": [],
   "source": []
  }
 ],
 "metadata": {
  "colab": {
   "provenance": []
  },
  "kernelspec": {
   "display_name": "Python 3 (ipykernel)",
   "language": "python",
   "name": "python3"
  },
  "language_info": {
   "codemirror_mode": {
    "name": "ipython",
    "version": 3
   },
   "file_extension": ".py",
   "mimetype": "text/x-python",
   "name": "python",
   "nbconvert_exporter": "python",
   "pygments_lexer": "ipython3",
   "version": "3.12.2"
  }
 },
 "nbformat": 4,
 "nbformat_minor": 4
}
