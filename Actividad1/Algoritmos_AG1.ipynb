{
 "cells": [
  {
   "cell_type": "markdown",
   "metadata": {
    "id": "kQn6fbhgtH9I"
   },
   "source": [
    "<h1>Algoritmos - Actividad Guiada 1</h1>\n",
    "\n",
    "<h3>Estudiante: Greivin Marin Umaña</h3>\n",
    "\n",
    "Repositorio: https://github.com/GreivinMarin/VIU_Algo.git\n"
   ]
  },
  {
   "cell_type": "markdown",
   "metadata": {
    "id": "_t62Ge7ZuKnC"
   },
   "source": [
    "<h2>Torres de Hanoi con Divide y vencerás Original</h2>"
   ]
  },
  {
   "cell_type": "code",
   "execution_count": 1,
   "metadata": {
    "colab": {
     "base_uri": "https://localhost:8080/"
    },
    "id": "i32G0CUQvauE",
    "outputId": "c3398cec-661d-46a5-b9db-0a0ad168f64a"
   },
   "outputs": [
    {
     "name": "stdout",
     "output_type": "stream",
     "text": [
      "Lleva la ficha  1  hasta  3\n",
      "Lleva la ficha  1  hasta  2\n",
      "Lleva la ficha  3  hasta  2\n",
      "Lleva la ficha  1  hasta  3\n",
      "Lleva la ficha  2  hasta  1\n",
      "Lleva la ficha  2  hasta  3\n",
      "Lleva la ficha  1  hasta  3\n"
     ]
    }
   ],
   "source": [
    "def Torres_Hanoi(N, desde, hasta):\n",
    "  if N ==1 :\n",
    "    print(\"Lleva la ficha \" ,desde , \" hasta \", hasta )\n",
    "\n",
    "  else:\n",
    "    #Torres_Hanoi(N-1, desde, 6-desde-hasta )\n",
    "    Torres_Hanoi(N-1, desde, 6-desde-hasta )\n",
    "    print(\"Lleva la ficha \" ,desde , \" hasta \", hasta )\n",
    "    #Torres_Hanoi(N-1,6-desde-hasta, hasta )\n",
    "    Torres_Hanoi(N-1, 6-desde-hasta  , hasta )\n",
    "\n",
    "\n",
    "Torres_Hanoi(3, 1 , 3)"
   ]
  },
  {
   "cell_type": "markdown",
   "metadata": {
    "colab": {
     "base_uri": "https://localhost:8080/"
    },
    "id": "i32G0CUQvauE",
    "outputId": "c3398cec-661d-46a5-b9db-0a0ad168f64a"
   },
   "source": [
    "<h2>Torres de Hanoi con Divide y vencerás (Modificado)</h2>\n",
    "Lo he modificado agregando las torres con letras para poder entender mejor el paso a paso del código"
   ]
  },
  {
   "cell_type": "code",
   "execution_count": 4,
   "metadata": {
    "colab": {
     "base_uri": "https://localhost:8080/"
    },
    "id": "i32G0CUQvauE",
    "outputId": "c3398cec-661d-46a5-b9db-0a0ad168f64a"
   },
   "outputs": [
    {
     "name": "stdout",
     "output_type": "stream",
     "text": [
      "Mover disco 1 de A a C **\n",
      "Mover disco 2 de A a B\n",
      "Mover disco 1 de C a B **\n",
      "Mover disco 3 de A a C\n",
      "Mover disco 1 de B a A **\n",
      "Mover disco 2 de B a C\n",
      "Mover disco 1 de A a C **\n"
     ]
    }
   ],
   "source": [
    "def torres_hanoi(n, origen, destino, auxiliar):\n",
    "    if n == 1:\n",
    "        print(f\"Mover disco 1 de {origen} a {destino} **\")\n",
    "    else:\n",
    "        # Paso 1: mover n-1 discos del origen al auxiliar\n",
    "        torres_hanoi(n - 1, origen, auxiliar, destino)            \n",
    "        \n",
    "        print(f\"Mover disco {n} de {origen} a {destino}\")\n",
    "        \n",
    "        # Paso 3: mover los n-1 discos del auxiliar al destino\n",
    "        torres_hanoi(n - 1, auxiliar, destino, origen)\n",
    "\n",
    "# Llamada de ejemplo con 3 discos y torres A (origen), B (auxiliar), C (destino)\n",
    "torres_hanoi(3, 'A', 'C', 'B')"
   ]
  },
  {
   "cell_type": "markdown",
   "metadata": {
    "id": "_t62Ge7ZuKnC"
   },
   "source": [
    "<h2>Sucesión de Fibonacci (Original)</h2>"
   ]
  },
  {
   "cell_type": "code",
   "execution_count": 21,
   "metadata": {
    "colab": {
     "base_uri": "https://localhost:8080/"
    },
    "id": "74qZZAekiNYR",
    "outputId": "acc17268-7f87-4de4-ae5a-4fc6ce09d385"
   },
   "outputs": [
    {
     "data": {
      "text/plain": [
       "34"
      ]
     },
     "execution_count": 21,
     "metadata": {},
     "output_type": "execute_result"
    }
   ],
   "source": [
    "#Sucesión_de_Fibonacci\n",
    "#https://es.wikipedia.org/wiki/Sucesi%C3%B3n_de_Fibonacci\n",
    "#Calculo del termino n-simo de la suscesión de Fibonacci\n",
    "def Fibonacci(N:int):\n",
    "  if N < 2:\n",
    "    return 1\n",
    "  else:\n",
    "    return Fibonacci(N-1)+Fibonacci(N-2)\n",
    "\n",
    "Fibonacci(8)"
   ]
  },
  {
   "cell_type": "markdown",
   "metadata": {
    "id": "_t62Ge7ZuKnC"
   },
   "source": [
    "<h2>Sucesión de Fibonacci (Modificado)</h2>\n",
    "Para mejor entendimiento se agregan los resultados de las 2 recursiones en variables y se imprimen ambos resultados así podemos seguir cada paso"
   ]
  },
  {
   "cell_type": "code",
   "execution_count": 22,
   "metadata": {
    "colab": {
     "base_uri": "https://localhost:8080/"
    },
    "id": "74qZZAekiNYR",
    "outputId": "acc17268-7f87-4de4-ae5a-4fc6ce09d385"
   },
   "outputs": [
    {
     "name": "stdout",
     "output_type": "stream",
     "text": [
      "****\n",
      "****\n",
      "Valor inicial N: 2, Valor f1: 1, Valor f2: 1,  Resultado: 2\n",
      "****\n",
      "Valor inicial N: 3, Valor f1: 2, Valor f2: 1,  Resultado: 3\n",
      "****\n",
      "****\n",
      "Valor inicial N: 2, Valor f1: 1, Valor f2: 1,  Resultado: 2\n",
      "Valor inicial N: 4, Valor f1: 3, Valor f2: 2,  Resultado: 5\n",
      "****\n",
      "****\n",
      "Valor inicial N: 2, Valor f1: 1, Valor f2: 1,  Resultado: 2\n",
      "****\n",
      "Valor inicial N: 3, Valor f1: 2, Valor f2: 1,  Resultado: 3\n",
      "Valor inicial N: 5, Valor f1: 5, Valor f2: 3,  Resultado: 8\n",
      "****\n",
      "****\n",
      "Valor inicial N: 2, Valor f1: 1, Valor f2: 1,  Resultado: 2\n",
      "****\n",
      "Valor inicial N: 3, Valor f1: 2, Valor f2: 1,  Resultado: 3\n",
      "****\n",
      "****\n",
      "Valor inicial N: 2, Valor f1: 1, Valor f2: 1,  Resultado: 2\n",
      "Valor inicial N: 4, Valor f1: 3, Valor f2: 2,  Resultado: 5\n",
      "Valor inicial N: 6, Valor f1: 8, Valor f2: 5,  Resultado: 13\n",
      "****\n",
      "****\n",
      "Valor inicial N: 2, Valor f1: 1, Valor f2: 1,  Resultado: 2\n",
      "****\n",
      "Valor inicial N: 3, Valor f1: 2, Valor f2: 1,  Resultado: 3\n",
      "****\n",
      "****\n",
      "Valor inicial N: 2, Valor f1: 1, Valor f2: 1,  Resultado: 2\n",
      "Valor inicial N: 4, Valor f1: 3, Valor f2: 2,  Resultado: 5\n",
      "****\n",
      "****\n",
      "Valor inicial N: 2, Valor f1: 1, Valor f2: 1,  Resultado: 2\n",
      "****\n",
      "Valor inicial N: 3, Valor f1: 2, Valor f2: 1,  Resultado: 3\n",
      "Valor inicial N: 5, Valor f1: 5, Valor f2: 3,  Resultado: 8\n",
      "Valor inicial N: 7, Valor f1: 13, Valor f2: 8,  Resultado: 21\n",
      "****\n",
      "****\n",
      "Valor inicial N: 2, Valor f1: 1, Valor f2: 1,  Resultado: 2\n",
      "****\n",
      "Valor inicial N: 3, Valor f1: 2, Valor f2: 1,  Resultado: 3\n",
      "****\n",
      "****\n",
      "Valor inicial N: 2, Valor f1: 1, Valor f2: 1,  Resultado: 2\n",
      "Valor inicial N: 4, Valor f1: 3, Valor f2: 2,  Resultado: 5\n",
      "****\n",
      "****\n",
      "Valor inicial N: 2, Valor f1: 1, Valor f2: 1,  Resultado: 2\n",
      "****\n",
      "Valor inicial N: 3, Valor f1: 2, Valor f2: 1,  Resultado: 3\n",
      "Valor inicial N: 5, Valor f1: 5, Valor f2: 3,  Resultado: 8\n",
      "****\n",
      "****\n",
      "Valor inicial N: 2, Valor f1: 1, Valor f2: 1,  Resultado: 2\n",
      "****\n",
      "Valor inicial N: 3, Valor f1: 2, Valor f2: 1,  Resultado: 3\n",
      "****\n",
      "****\n",
      "Valor inicial N: 2, Valor f1: 1, Valor f2: 1,  Resultado: 2\n",
      "Valor inicial N: 4, Valor f1: 3, Valor f2: 2,  Resultado: 5\n",
      "Valor inicial N: 6, Valor f1: 8, Valor f2: 5,  Resultado: 13\n",
      "Valor inicial N: 8, Valor f1: 21, Valor f2: 13,  Resultado: 34\n"
     ]
    },
    {
     "data": {
      "text/plain": [
       "34"
      ]
     },
     "execution_count": 22,
     "metadata": {},
     "output_type": "execute_result"
    }
   ],
   "source": [
    "def Fibonacci(N:int):  \n",
    "  if N < 2:\n",
    "    print(\"****\")\n",
    "    return 1\n",
    "  else:\n",
    "    f1 = Fibonacci(N-1) #primera recursión     \n",
    "    f2 = Fibonacci(N-2) #segunda recursión\n",
    "    print(f\"Valor inicial N: {N}, Valor f1: {f1}, Valor f2: {f2},  Resultado: {f1+f2}\")\n",
    "    return f1+f2\n",
    "\n",
    "Fibonacci(8)"
   ]
  },
  {
   "cell_type": "markdown",
   "metadata": {
    "id": "_t62Ge7ZuKnC"
   },
   "source": [
    "<h2>Devolución de cambio por técnica voraz (Original)</h2>"
   ]
  },
  {
   "cell_type": "code",
   "execution_count": 23,
   "metadata": {
    "colab": {
     "base_uri": "https://localhost:8080/"
    },
    "id": "uJtftBLU4-ap",
    "outputId": "b52f7a2c-771b-4c2e-81ab-c4c3ea01318d"
   },
   "outputs": [
    {
     "data": {
      "text/plain": [
       "[0, 1, 1, 0]"
      ]
     },
     "execution_count": 23,
     "metadata": {},
     "output_type": "execute_result"
    }
   ],
   "source": [
    "def cambio_monedas(N, SM):\n",
    "  SOLUCION = [0]*len(SM)   #SOLUCION = [0,0,0,0,..]\n",
    "  ValorAcumulado = 0\n",
    "\n",
    "  for i,valor in enumerate(SM):\n",
    "    monedas =  (N-ValorAcumulado)//valor\n",
    "    SOLUCION[i] = monedas\n",
    "    ValorAcumulado = ValorAcumulado + monedas*valor\n",
    "\n",
    "    if ValorAcumulado == N:\n",
    "      return SOLUCION\n",
    "\n",
    "\n",
    "cambio_monedas(15,[25,10,5,1])"
   ]
  },
  {
   "cell_type": "markdown",
   "metadata": {
    "id": "_t62Ge7ZuKnC"
   },
   "source": [
    "<h2>Devolución de cambio por técnica voraz (Modificado)</h2>\n",
    "Nuevamente se modifica para que sea más claro y entendible el seguimiento del flujo de ejecución"
   ]
  },
  {
   "cell_type": "code",
   "execution_count": 28,
   "metadata": {
    "colab": {
     "base_uri": "https://localhost:8080/"
    },
    "id": "uJtftBLU4-ap",
    "outputId": "b52f7a2c-771b-4c2e-81ab-c4c3ea01318d"
   },
   "outputs": [
    {
     "name": "stdout",
     "output_type": "stream",
     "text": [
      "No se logró dar el cambio exacto con las denominaciones actuales, monto restante: 1\n"
     ]
    },
    {
     "data": {
      "text/plain": [
       "[0, 1, 1, 0]"
      ]
     },
     "execution_count": 28,
     "metadata": {},
     "output_type": "execute_result"
    }
   ],
   "source": [
    "#Nombres de variables más claros\n",
    "def cambio_monedas(N, denominaciones):\n",
    "    solucion = []\n",
    "    restante = N\n",
    "\n",
    "    for moneda in denominaciones:\n",
    "        cantidad = restante // moneda\n",
    "        solucion.append(cantidad)\n",
    "        restante -= cantidad * moneda\n",
    "        \n",
    "        if restante == 0:\n",
    "            break\n",
    "    #Se agrega un mensaje para cuando queda monto restante y no hay denominaciones utilizables\n",
    "    if restante > 0:\n",
    "        print(f\"No se logró dar el cambio exacto con las denominaciones actuales, monto restante: {restante}\")\n",
    "    \n",
    "    return solucion\n",
    "\n",
    "cambio_monedas(16,[25,10,5,2])    "
   ]
  },
  {
   "cell_type": "markdown",
   "metadata": {
    "id": "g8M9GTvy_Fa3"
   },
   "source": [
    "<h1>N-Reinas por técnica de vueta atrás (Original)</h1>"
   ]
  },
  {
   "cell_type": "code",
   "execution_count": 32,
   "metadata": {
    "id": "FqOPyCmv_K65"
   },
   "outputs": [
    {
     "name": "stdout",
     "output_type": "stream",
     "text": [
      "[1, 5, 8, 6, 3, 7, 2, 4]\n",
      "\n",
      "[1, 6, 8, 3, 7, 4, 2, 5]\n",
      "\n",
      "[1, 7, 4, 6, 8, 2, 5, 3]\n",
      "\n",
      "[1, 7, 5, 8, 2, 4, 6, 3]\n",
      "\n",
      "[2, 4, 6, 8, 3, 1, 7, 5]\n",
      "\n",
      "[2, 5, 7, 1, 3, 8, 6, 4]\n",
      "\n",
      "[2, 5, 7, 4, 1, 8, 6, 3]\n",
      "\n",
      "[2, 6, 1, 7, 4, 8, 3, 5]\n",
      "\n",
      "[2, 6, 8, 3, 1, 4, 7, 5]\n",
      "\n",
      "[2, 7, 3, 6, 8, 5, 1, 4]\n",
      "\n",
      "[2, 7, 5, 8, 1, 4, 6, 3]\n",
      "\n",
      "[2, 8, 6, 1, 3, 5, 7, 4]\n",
      "\n",
      "[3, 1, 7, 5, 8, 2, 4, 6]\n",
      "\n",
      "[3, 5, 2, 8, 1, 7, 4, 6]\n",
      "\n",
      "[3, 5, 2, 8, 6, 4, 7, 1]\n",
      "\n",
      "[3, 5, 7, 1, 4, 2, 8, 6]\n",
      "\n",
      "[3, 5, 8, 4, 1, 7, 2, 6]\n",
      "\n",
      "[3, 6, 2, 5, 8, 1, 7, 4]\n",
      "\n",
      "[3, 6, 2, 7, 1, 4, 8, 5]\n",
      "\n",
      "[3, 6, 2, 7, 5, 1, 8, 4]\n",
      "\n",
      "[3, 6, 4, 1, 8, 5, 7, 2]\n",
      "\n",
      "[3, 6, 4, 2, 8, 5, 7, 1]\n",
      "\n",
      "[3, 6, 8, 1, 4, 7, 5, 2]\n",
      "\n",
      "[3, 6, 8, 1, 5, 7, 2, 4]\n",
      "\n",
      "[3, 6, 8, 2, 4, 1, 7, 5]\n",
      "\n",
      "[3, 7, 2, 8, 5, 1, 4, 6]\n",
      "\n",
      "[3, 7, 2, 8, 6, 4, 1, 5]\n",
      "\n",
      "[3, 8, 4, 7, 1, 6, 2, 5]\n",
      "\n",
      "[4, 1, 5, 8, 2, 7, 3, 6]\n",
      "\n",
      "[4, 1, 5, 8, 6, 3, 7, 2]\n",
      "\n",
      "[4, 2, 5, 8, 6, 1, 3, 7]\n",
      "\n",
      "[4, 2, 7, 3, 6, 8, 1, 5]\n",
      "\n",
      "[4, 2, 7, 3, 6, 8, 5, 1]\n",
      "\n",
      "[4, 2, 7, 5, 1, 8, 6, 3]\n",
      "\n",
      "[4, 2, 8, 5, 7, 1, 3, 6]\n",
      "\n",
      "[4, 2, 8, 6, 1, 3, 5, 7]\n",
      "\n",
      "[4, 6, 1, 5, 2, 8, 3, 7]\n",
      "\n",
      "[4, 6, 8, 2, 7, 1, 3, 5]\n",
      "\n",
      "[4, 6, 8, 3, 1, 7, 5, 2]\n",
      "\n",
      "[4, 7, 1, 8, 5, 2, 6, 3]\n",
      "\n",
      "[4, 7, 3, 8, 2, 5, 1, 6]\n",
      "\n",
      "[4, 7, 5, 2, 6, 1, 3, 8]\n",
      "\n",
      "[4, 7, 5, 3, 1, 6, 8, 2]\n",
      "\n",
      "[4, 8, 1, 3, 6, 2, 7, 5]\n",
      "\n",
      "[4, 8, 1, 5, 7, 2, 6, 3]\n",
      "\n",
      "[4, 8, 5, 3, 1, 7, 2, 6]\n",
      "\n",
      "[5, 1, 4, 6, 8, 2, 7, 3]\n",
      "\n",
      "[5, 1, 8, 4, 2, 7, 3, 6]\n",
      "\n",
      "[5, 1, 8, 6, 3, 7, 2, 4]\n",
      "\n",
      "[5, 2, 4, 6, 8, 3, 1, 7]\n",
      "\n",
      "[5, 2, 4, 7, 3, 8, 6, 1]\n",
      "\n",
      "[5, 2, 6, 1, 7, 4, 8, 3]\n",
      "\n",
      "[5, 2, 8, 1, 4, 7, 3, 6]\n",
      "\n",
      "[5, 3, 1, 6, 8, 2, 4, 7]\n",
      "\n",
      "[5, 3, 1, 7, 2, 8, 6, 4]\n",
      "\n",
      "[5, 3, 8, 4, 7, 1, 6, 2]\n",
      "\n",
      "[5, 7, 1, 3, 8, 6, 4, 2]\n",
      "\n",
      "[5, 7, 1, 4, 2, 8, 6, 3]\n",
      "\n",
      "[5, 7, 2, 4, 8, 1, 3, 6]\n",
      "\n",
      "[5, 7, 2, 6, 3, 1, 4, 8]\n",
      "\n",
      "[5, 7, 2, 6, 3, 1, 8, 4]\n",
      "\n",
      "[5, 7, 4, 1, 3, 8, 6, 2]\n",
      "\n",
      "[5, 8, 4, 1, 3, 6, 2, 7]\n",
      "\n",
      "[5, 8, 4, 1, 7, 2, 6, 3]\n",
      "\n",
      "[6, 1, 5, 2, 8, 3, 7, 4]\n",
      "\n",
      "[6, 2, 7, 1, 3, 5, 8, 4]\n",
      "\n",
      "[6, 2, 7, 1, 4, 8, 5, 3]\n",
      "\n",
      "[6, 3, 1, 7, 5, 8, 2, 4]\n",
      "\n",
      "[6, 3, 1, 8, 4, 2, 7, 5]\n",
      "\n",
      "[6, 3, 1, 8, 5, 2, 4, 7]\n",
      "\n",
      "[6, 3, 5, 7, 1, 4, 2, 8]\n",
      "\n",
      "[6, 3, 5, 8, 1, 4, 2, 7]\n",
      "\n",
      "[6, 3, 7, 2, 4, 8, 1, 5]\n",
      "\n",
      "[6, 3, 7, 2, 8, 5, 1, 4]\n",
      "\n",
      "[6, 3, 7, 4, 1, 8, 2, 5]\n",
      "\n",
      "[6, 4, 1, 5, 8, 2, 7, 3]\n",
      "\n",
      "[6, 4, 2, 8, 5, 7, 1, 3]\n",
      "\n",
      "[6, 4, 7, 1, 3, 5, 2, 8]\n",
      "\n",
      "[6, 4, 7, 1, 8, 2, 5, 3]\n",
      "\n",
      "[6, 8, 2, 4, 1, 7, 5, 3]\n",
      "\n",
      "[7, 1, 3, 8, 6, 4, 2, 5]\n",
      "\n",
      "[7, 2, 4, 1, 8, 5, 3, 6]\n",
      "\n",
      "[7, 2, 6, 3, 1, 4, 8, 5]\n",
      "\n",
      "[7, 3, 1, 6, 8, 5, 2, 4]\n",
      "\n",
      "[7, 3, 8, 2, 5, 1, 6, 4]\n",
      "\n",
      "[7, 4, 2, 5, 8, 1, 3, 6]\n",
      "\n",
      "[7, 4, 2, 8, 6, 1, 3, 5]\n",
      "\n",
      "[7, 5, 3, 1, 6, 8, 2, 4]\n",
      "\n",
      "[8, 2, 4, 1, 7, 5, 3, 6]\n",
      "\n",
      "[8, 2, 5, 3, 1, 7, 4, 6]\n",
      "\n",
      "[8, 3, 1, 6, 2, 5, 7, 4]\n",
      "\n",
      "[8, 4, 1, 3, 6, 2, 7, 5]\n",
      "\n"
     ]
    }
   ],
   "source": [
    "def escribe(S):\n",
    "  n = len(S)\n",
    "  for x in range(n):\n",
    "    print(\"\")\n",
    "    for i in range(n):\n",
    "      if S[i] == x+1:\n",
    "        print(\" X \" , end=\"\")\n",
    "      else:\n",
    "        print(\" - \", end=\"\")\n",
    "\n",
    "\n",
    "def es_prometedora(SOLUCION,etapa):\n",
    "  #print(SOLUCION)\n",
    "  #Si la solución tiene dos valores iguales no es valida => Dos reinas en la misma fila\n",
    "  for i in range(etapa+1):\n",
    "    #print(\"El valor \" + str(SOLUCION[i]) + \" está \" +  str(SOLUCION.count(SOLUCION[i])) + \" veces\")\n",
    "    if SOLUCION.count(SOLUCION[i]) > 1:\n",
    "      return False\n",
    "\n",
    "    #Verifica las diagonales\n",
    "    for j in range(i+1, etapa +1 ):\n",
    "      #print(\"Comprobando diagonal de \" + str(i) + \" y \" + str(j))\n",
    "      if abs(i-j) == abs(SOLUCION[i]-SOLUCION[j]) : return False\n",
    "  return True\n",
    "\n",
    "\n",
    "\n",
    "def reinas(N, solucion=[], etapa=0):\n",
    "  if len(solucion) == 0:\n",
    "      solucion=[0 for i in range(N)]\n",
    "\n",
    "  for i in range(1, N+1):\n",
    "    solucion[etapa] = i\n",
    "\n",
    "    if es_prometedora(solucion, etapa):\n",
    "      if etapa == N-1:\n",
    "        print(solucion)\n",
    "        #escribe(solucion)\n",
    "        print()\n",
    "      else:\n",
    "        reinas(N, solucion, etapa+1)\n",
    "    else:\n",
    "      None\n",
    "\n",
    "    solucion[etapa] = 0\n",
    "\n",
    "reinas(8)"
   ]
  },
  {
   "cell_type": "markdown",
   "metadata": {
    "id": "g8M9GTvy_Fa3"
   },
   "source": [
    "<h1>N-Reinas por técnica de vueta atrás (Modificado)</h1>\n",
    "Nuevamente se realizan modificaciones para mejor entendimiento y seguimiendo de la ejecución del código, además se imprime en pantalla los diferentes intentos de solución para ver como vuelve atrás e intenta nuevas alternativas."
   ]
  },
  {
   "cell_type": "code",
   "execution_count": 38,
   "metadata": {
    "id": "FqOPyCmv_K65"
   },
   "outputs": [
    {
     "name": "stdout",
     "output_type": "stream",
     "text": [
      "[0, 0, 0, 0, 0, 0]\n",
      "[1, 0, 0, 0, 0, 0]\n",
      "[1, 3, 0, 0, 0, 0]\n",
      "[1, 3, 5, 0, 0, 0]\n",
      "[1, 3, 5, 2, 0, 0]\n",
      "[1, 3, 5, 2, 4, 0]\n",
      "[1, 3, 6, 0, 0, 0]\n",
      "[1, 3, 6, 2, 0, 0]\n",
      "[1, 4, 0, 0, 0, 0]\n",
      "[1, 4, 2, 0, 0, 0]\n",
      "[1, 4, 2, 5, 0, 0]\n",
      "[1, 4, 2, 5, 3, 0]\n",
      "[1, 4, 6, 0, 0, 0]\n",
      "[1, 4, 6, 3, 0, 0]\n",
      "[1, 5, 0, 0, 0, 0]\n",
      "[1, 5, 2, 0, 0, 0]\n",
      "[1, 5, 2, 6, 0, 0]\n",
      "[1, 5, 2, 6, 3, 0]\n",
      "[1, 6, 0, 0, 0, 0]\n",
      "[1, 6, 2, 0, 0, 0]\n",
      "[1, 6, 2, 5, 0, 0]\n",
      "[1, 6, 4, 0, 0, 0]\n",
      "[1, 6, 4, 2, 0, 0]\n",
      "[2, 0, 0, 0, 0, 0]\n",
      "[2, 4, 0, 0, 0, 0]\n",
      "[2, 4, 1, 0, 0, 0]\n",
      "[2, 4, 1, 3, 0, 0]\n",
      "[2, 4, 1, 3, 5, 0]\n",
      "[2, 4, 6, 0, 0, 0]\n",
      "[2, 4, 6, 1, 0, 0]\n",
      "[2, 4, 6, 1, 3, 0]\n",
      "[2, 4, 6, 1, 3, 5]\n",
      " -  -  -  X  -  - \n",
      " X  -  -  -  -  - \n",
      " -  -  -  -  X  - \n",
      " -  X  -  -  -  - \n",
      " -  -  -  -  -  X \n",
      " -  -  X  -  -  - \n",
      "\n",
      "[2, 4, 6, 1, 5, 0]\n",
      "[2, 4, 6, 3, 0, 0]\n",
      "[2, 4, 6, 3, 5, 0]\n",
      "[2, 5, 0, 0, 0, 0]\n",
      "[2, 5, 1, 0, 0, 0]\n",
      "[2, 5, 1, 4, 0, 0]\n",
      "[2, 5, 1, 6, 0, 0]\n",
      "[2, 5, 1, 6, 4, 0]\n",
      "[2, 5, 3, 0, 0, 0]\n",
      "[2, 5, 3, 1, 0, 0]\n",
      "[2, 5, 3, 1, 4, 0]\n",
      "[2, 5, 3, 6, 0, 0]\n",
      "[2, 5, 3, 6, 4, 0]\n",
      "[2, 6, 0, 0, 0, 0]\n",
      "[2, 6, 1, 0, 0, 0]\n",
      "[2, 6, 1, 3, 0, 0]\n",
      "[2, 6, 1, 3, 5, 0]\n",
      "[2, 6, 3, 0, 0, 0]\n",
      "[2, 6, 3, 1, 0, 0]\n",
      "[2, 6, 3, 1, 4, 0]\n",
      "[3, 0, 0, 0, 0, 0]\n",
      "[3, 1, 0, 0, 0, 0]\n",
      "[3, 1, 4, 0, 0, 0]\n",
      "[3, 1, 4, 2, 0, 0]\n",
      "[3, 1, 4, 2, 5, 0]\n",
      "[3, 1, 6, 0, 0, 0]\n",
      "[3, 1, 6, 2, 0, 0]\n",
      "[3, 1, 6, 2, 5, 0]\n",
      "[3, 1, 6, 4, 0, 0]\n",
      "[3, 1, 6, 4, 2, 0]\n",
      "[3, 5, 0, 0, 0, 0]\n",
      "[3, 5, 2, 0, 0, 0]\n",
      "[3, 5, 2, 4, 0, 0]\n",
      "[3, 5, 2, 4, 1, 0]\n",
      "[3, 5, 2, 4, 6, 0]\n",
      "[3, 6, 0, 0, 0, 0]\n",
      "[3, 6, 2, 0, 0, 0]\n",
      "[3, 6, 2, 5, 0, 0]\n",
      "[3, 6, 2, 5, 1, 0]\n",
      "[3, 6, 2, 5, 1, 4]\n",
      " -  -  -  -  X  - \n",
      " -  -  X  -  -  - \n",
      " X  -  -  -  -  - \n",
      " -  -  -  -  -  X \n",
      " -  -  -  X  -  - \n",
      " -  X  -  -  -  - \n",
      "\n",
      "[3, 6, 4, 0, 0, 0]\n",
      "[3, 6, 4, 1, 0, 0]\n",
      "[3, 6, 4, 1, 5, 0]\n",
      "[3, 6, 4, 2, 0, 0]\n",
      "[3, 6, 4, 2, 5, 0]\n",
      "[4, 0, 0, 0, 0, 0]\n",
      "[4, 1, 0, 0, 0, 0]\n",
      "[4, 1, 3, 0, 0, 0]\n",
      "[4, 1, 3, 5, 0, 0]\n",
      "[4, 1, 3, 5, 2, 0]\n",
      "[4, 1, 3, 6, 0, 0]\n",
      "[4, 1, 3, 6, 2, 0]\n",
      "[4, 1, 5, 0, 0, 0]\n",
      "[4, 1, 5, 2, 0, 0]\n",
      "[4, 1, 5, 2, 6, 0]\n",
      "[4, 1, 5, 2, 6, 3]\n",
      " -  X  -  -  -  - \n",
      " -  -  -  X  -  - \n",
      " -  -  -  -  -  X \n",
      " X  -  -  -  -  - \n",
      " -  -  X  -  -  - \n",
      " -  -  -  -  X  - \n",
      "\n",
      "[4, 2, 0, 0, 0, 0]\n",
      "[4, 2, 5, 0, 0, 0]\n",
      "[4, 2, 5, 3, 0, 0]\n",
      "[4, 2, 5, 3, 1, 0]\n",
      "[4, 2, 5, 3, 6, 0]\n",
      "[4, 6, 0, 0, 0, 0]\n",
      "[4, 6, 1, 0, 0, 0]\n",
      "[4, 6, 1, 3, 0, 0]\n",
      "[4, 6, 1, 3, 5, 0]\n",
      "[4, 6, 1, 5, 0, 0]\n",
      "[4, 6, 1, 5, 2, 0]\n",
      "[4, 6, 3, 0, 0, 0]\n",
      "[4, 6, 3, 5, 0, 0]\n",
      "[4, 6, 3, 5, 2, 0]\n",
      "[5, 0, 0, 0, 0, 0]\n",
      "[5, 1, 0, 0, 0, 0]\n",
      "[5, 1, 4, 0, 0, 0]\n",
      "[5, 1, 4, 6, 0, 0]\n",
      "[5, 1, 4, 6, 3, 0]\n",
      "[5, 1, 6, 0, 0, 0]\n",
      "[5, 1, 6, 4, 0, 0]\n",
      "[5, 1, 6, 4, 2, 0]\n",
      "[5, 2, 0, 0, 0, 0]\n",
      "[5, 2, 4, 0, 0, 0]\n",
      "[5, 2, 4, 1, 0, 0]\n",
      "[5, 2, 4, 1, 3, 0]\n",
      "[5, 2, 4, 6, 0, 0]\n",
      "[5, 2, 4, 6, 3, 0]\n",
      "[5, 2, 6, 0, 0, 0]\n",
      "[5, 2, 6, 1, 0, 0]\n",
      "[5, 2, 6, 1, 3, 0]\n",
      "[5, 2, 6, 3, 0, 0]\n",
      "[5, 3, 0, 0, 0, 0]\n",
      "[5, 3, 1, 0, 0, 0]\n",
      "[5, 3, 1, 4, 0, 0]\n",
      "[5, 3, 1, 4, 2, 0]\n",
      "[5, 3, 1, 6, 0, 0]\n",
      "[5, 3, 1, 6, 2, 0]\n",
      "[5, 3, 1, 6, 4, 0]\n",
      "[5, 3, 1, 6, 4, 2]\n",
      " -  -  X  -  -  - \n",
      " -  -  -  -  -  X \n",
      " -  X  -  -  -  - \n",
      " -  -  -  -  X  - \n",
      " X  -  -  -  -  - \n",
      " -  -  -  X  -  - \n",
      "\n",
      "[5, 3, 6, 0, 0, 0]\n",
      "[5, 3, 6, 4, 0, 0]\n",
      "[5, 3, 6, 4, 2, 0]\n",
      "[6, 0, 0, 0, 0, 0]\n",
      "[6, 1, 0, 0, 0, 0]\n",
      "[6, 1, 3, 0, 0, 0]\n",
      "[6, 1, 3, 5, 0, 0]\n",
      "[6, 1, 5, 0, 0, 0]\n",
      "[6, 1, 5, 2, 0, 0]\n",
      "[6, 2, 0, 0, 0, 0]\n",
      "[6, 2, 5, 0, 0, 0]\n",
      "[6, 2, 5, 1, 0, 0]\n",
      "[6, 2, 5, 1, 4, 0]\n",
      "[6, 3, 0, 0, 0, 0]\n",
      "[6, 3, 1, 0, 0, 0]\n",
      "[6, 3, 1, 4, 0, 0]\n",
      "[6, 3, 5, 0, 0, 0]\n",
      "[6, 3, 5, 2, 0, 0]\n",
      "[6, 3, 5, 2, 4, 0]\n",
      "[6, 4, 0, 0, 0, 0]\n",
      "[6, 4, 1, 0, 0, 0]\n",
      "[6, 4, 1, 5, 0, 0]\n",
      "[6, 4, 2, 0, 0, 0]\n",
      "[6, 4, 2, 5, 0, 0]\n",
      "[6, 4, 2, 5, 3, 0]\n"
     ]
    },
    {
     "data": {
      "text/plain": [
       "[[2, 4, 6, 1, 3, 5],\n",
       " [3, 6, 2, 5, 1, 4],\n",
       " [4, 1, 5, 2, 6, 3],\n",
       " [5, 3, 1, 6, 4, 2]]"
      ]
     },
     "execution_count": 38,
     "metadata": {},
     "output_type": "execute_result"
    }
   ],
   "source": [
    "def imprimir_tablero(solucion):\n",
    "    n = len(solucion)\n",
    "    for fila in range(1, n + 1):\n",
    "        for col in range(n):\n",
    "            if solucion[col] == fila:\n",
    "                print(\" X \", end=\"\")\n",
    "            else:\n",
    "                print(\" - \", end=\"\")\n",
    "        print()\n",
    "    print()\n",
    "\n",
    "\n",
    "def es_prometedora(solucion, col_actual):\n",
    "    for i in range(col_actual):\n",
    "        if solucion[i] == solucion[col_actual]:  # misma fila\n",
    "            return False\n",
    "        if abs(i - col_actual) == abs(solucion[i] - solucion[col_actual]):  # misma diagonal\n",
    "            return False\n",
    "    return True\n",
    "\n",
    "\n",
    "def reinas(n, col_actual=0, solucion=None, soluciones=None):\n",
    "    if solucion is None:\n",
    "        solucion = [0] * n\n",
    "    if soluciones is None:\n",
    "        soluciones = []\n",
    "\n",
    "    print(solucion)\n",
    "    for fila in range(1, n + 1):\n",
    "        nueva_solucion = solucion[:]\n",
    "        nueva_solucion[col_actual] = fila\n",
    "\n",
    "        if es_prometedora(nueva_solucion, col_actual):\n",
    "            if col_actual == n - 1:\n",
    "                soluciones.append(nueva_solucion)\n",
    "                print(nueva_solucion)\n",
    "                imprimir_tablero(nueva_solucion)\n",
    "            else:\n",
    "                reinas(n, col_actual + 1, nueva_solucion, soluciones)\n",
    "\n",
    "    return soluciones\n",
    "\n",
    "reinas(6)"
   ]
  },
  {
   "cell_type": "markdown",
   "metadata": {
    "id": "p1VZhNzjUfiy"
   },
   "source": [
    "<h1>Viaje por el rio. Programación dinámica (Original)</h1>"
   ]
  },
  {
   "cell_type": "code",
   "execution_count": 5,
   "metadata": {
    "colab": {
     "base_uri": "https://localhost:8080/",
     "height": 351
    },
    "id": "qoqU1XciUdRn",
    "outputId": "541c88e8-e686-4c32-c7e6-812759702496"
   },
   "outputs": [
    {
     "name": "stdout",
     "output_type": "stream",
     "text": [
      "PRECIOS\n",
      "[0, 5, 4, 3, 8, 8, 11]\n",
      "[9999, 0, 999, 2, 3, 8, 7]\n",
      "[9999, 9999, 0, 1, 6, 4, 7]\n",
      "[9999, 9999, 9999, 0, 5, 6, 9]\n",
      "[9999, 9999, 9999, 9999, 0, 999, 4]\n",
      "[9999, 9999, 9999, 9999, 9999, 0, 3]\n",
      "[9999, 9999, 9999, 9999, 9999, 9999, 9999]\n",
      "\n",
      "RUTA\n",
      "[0, 0, 0, 0, 1, 2, 5]\n",
      "['', 1, 1, 1, 1, 3, 4]\n",
      "['', '', 2, 2, 3, 2, 5]\n",
      "['', '', '', 3, 3, 3, 3]\n",
      "['', '', '', '', 4, 4, 4]\n",
      "['', '', '', '', '', 5, 5]\n",
      "['', '', '', '', '', '', '']\n",
      "\n",
      "La ruta es:\n"
     ]
    },
    {
     "data": {
      "text/plain": [
       "',0,2,5'"
      ]
     },
     "execution_count": 5,
     "metadata": {},
     "output_type": "execute_result"
    }
   ],
   "source": [
    "TARIFAS = [\n",
    "[0,5,4,3,999,999,999],\n",
    "[999,0,999,2,3,999,11],\n",
    "[999,999, 0,1,999,4,10],\n",
    "[999,999,999, 0,5,6,9],\n",
    "[999,999, 999,999,0,999,4],\n",
    "[999,999, 999,999,999,0,3],\n",
    "[999,999,999,999,999,999,0]\n",
    "]\n",
    "\n",
    "\n",
    "\n",
    "################################################################\n",
    "def Precios(TARIFAS):\n",
    "################################################################\n",
    "  #Total de Nodos\n",
    "  N = len(TARIFAS[0])\n",
    "\n",
    "  #Inicialización de la tabla de precios\n",
    "  PRECIOS = [ [9999]*N for i in [9999]*N]\n",
    "  RUTA = [ [\"\"]*N for i in [\"\"]*N]\n",
    "\n",
    "  for i in range(0,N-1):\n",
    "    RUTA[i][i] = i             #Para ir de i a i se \"pasa por i\"\n",
    "    PRECIOS[i][i] = 0          #Para ir de i a i se se paga 0\n",
    "    for j in range(i+1, N):\n",
    "      MIN = TARIFAS[i][j]\n",
    "      RUTA[i][j] = i\n",
    "\n",
    "      for k in range(i, j):\n",
    "        if PRECIOS[i][k] + TARIFAS[k][j] < MIN:\n",
    "            MIN = min(MIN, PRECIOS[i][k] + TARIFAS[k][j] )\n",
    "            RUTA[i][j] = k          #Anota que para ir de i a j hay que pasar por k\n",
    "        PRECIOS[i][j] = MIN\n",
    "\n",
    "  return PRECIOS,RUTA\n",
    "################################################################\n",
    "\n",
    "\n",
    "PRECIOS,RUTA = Precios(TARIFAS)\n",
    "#print(PRECIOS[0][6])\n",
    "\n",
    "print(\"PRECIOS\")\n",
    "for i in range(len(TARIFAS)):\n",
    "  print(PRECIOS[i])\n",
    "\n",
    "print(\"\\nRUTA\")\n",
    "for i in range(len(TARIFAS)):\n",
    "  print(RUTA[i])\n",
    "\n",
    "#Determinar la ruta con Recursividad\n",
    "def calcular_ruta(RUTA, desde, hasta):\n",
    "  if desde == hasta:\n",
    "    #print(\"Ir a :\" + str(desde))\n",
    "    return \"\"\n",
    "  else:\n",
    "    return str(calcular_ruta( RUTA, desde, RUTA[desde][hasta])) +  \\\n",
    "                ',' + \\\n",
    "                str(RUTA[desde][hasta] \\\n",
    "              )\n",
    "\n",
    "print(\"\\nLa ruta es:\")\n",
    "calcular_ruta(RUTA, 0,6)"
   ]
  },
  {
   "cell_type": "markdown",
   "metadata": {
    "id": "p1VZhNzjUfiy"
   },
   "source": [
    "<h1>Viaje por el rio. Programación dinámica (Modificado)</h1>\n",
    "Mejoras en nombres de variables que ayuda a la legibilidad, Muestra la ruta completa en un mejor formato e imprime el costo total de la ruta más óptima elegida."
   ]
  },
  {
   "cell_type": "code",
   "execution_count": 39,
   "metadata": {
    "colab": {
     "base_uri": "https://localhost:8080/",
     "height": 351
    },
    "id": "qoqU1XciUdRn",
    "outputId": "541c88e8-e686-4c32-c7e6-812759702496"
   },
   "outputs": [
    {
     "name": "stdout",
     "output_type": "stream",
     "text": [
      "Matriz de costos mínimos:\n",
      "[0, 5, 4, 3, 8, 8, 11]\n",
      "[9999, 0, 999, 2, 3, 8, 7]\n",
      "[9999, 9999, 0, 1, 6, 4, 7]\n",
      "[9999, 9999, 9999, 0, 5, 6, 9]\n",
      "[9999, 9999, 9999, 9999, 0, 999, 4]\n",
      "[9999, 9999, 9999, 9999, 9999, 0, 3]\n",
      "[9999, 9999, 9999, 9999, 9999, 9999, 0]\n",
      "\n",
      "Matriz de nodos intermedios:\n",
      "[0, 0, 0, 0, 1, 2, 5]\n",
      "['', 1, 1, 1, 1, 3, 4]\n",
      "['', '', 2, 2, 3, 2, 5]\n",
      "['', '', '', 3, 3, 3, 3]\n",
      "['', '', '', '', 4, 4, 4]\n",
      "['', '', '', '', '', 5, 5]\n",
      "['', '', '', '', '', '', 6]\n",
      "\n",
      "Ruta más barata de 0 a 6:\n",
      "0 → 0 → 2 → 5 → 6\n",
      "Costo total: 11\n"
     ]
    }
   ],
   "source": [
    "matriz_costos = [\n",
    "    [0,   5,   4,   3,   999, 999, 999],\n",
    "    [999, 0,   999, 2,   3,   999, 11],\n",
    "    [999, 999, 0,   1,   999, 4,   10],\n",
    "    [999, 999, 999, 0,   5,   6,   9],\n",
    "    [999, 999, 999, 999, 0,   999, 4],\n",
    "    [999, 999, 999, 999, 999, 0,   3],\n",
    "    [999, 999, 999, 999, 999, 999, 0]\n",
    "]\n",
    "\n",
    "def calcular_costos_minimos(matriz):\n",
    "    N = len(matriz)\n",
    "    costos = [[9999 for _ in range(N)] for _ in range(N)]\n",
    "    ruta_intermedia = [[\"\" for _ in range(N)] for _ in range(N)]\n",
    "\n",
    "    for i in range(N):\n",
    "        costos[i][i] = 0\n",
    "        ruta_intermedia[i][i] = i\n",
    "\n",
    "        for j in range(i + 1, N):\n",
    "            minimo = matriz[i][j]\n",
    "            ruta_intermedia[i][j] = i\n",
    "\n",
    "            for k in range(i, j):\n",
    "                if costos[i][k] + matriz[k][j] < minimo:\n",
    "                    minimo = costos[i][k] + matriz[k][j]\n",
    "                    ruta_intermedia[i][j] = k\n",
    "            costos[i][j] = minimo\n",
    "\n",
    "    return costos, ruta_intermedia\n",
    "\n",
    "\n",
    "\n",
    "def calcular_intermedios(ruta_intermedia, desde, hasta):\n",
    "    if desde == hasta:\n",
    "        return \"\"\n",
    "    else:\n",
    "        intermedio = ruta_intermedia[desde][hasta]\n",
    "        return calcular_intermedios(ruta_intermedia, desde, intermedio) + \",\" + str(intermedio)\n",
    "\n",
    "\n",
    "\n",
    "def ruta_completa(ruta_intermedia, desde, hasta):\n",
    "    intermedios = calcular_intermedios(ruta_intermedia, desde, hasta)\n",
    "    nodos = [str(desde)] + intermedios.split(',')[1:] + [str(hasta)]\n",
    "    return \" → \".join(nodos)\n",
    "\n",
    "\n",
    "costos, rutas = calcular_costos_minimos(matriz_costos)\n",
    "\n",
    "print(\"Matriz de costos mínimos:\")\n",
    "for fila in costos:\n",
    "    print(fila)\n",
    "\n",
    "print(\"\\nMatriz de nodos intermedios:\")\n",
    "for fila in rutas:\n",
    "    print(fila)\n",
    "\n",
    "# Mostrar ruta y costo óptimo desde nodo 0 hasta 6\n",
    "origen = 0\n",
    "destino = 6\n",
    "print(f\"\\nRuta más barata de {origen} a {destino}:\")\n",
    "print(ruta_completa(rutas, origen, destino))\n",
    "print(f\"Costo total: {costos[origen][destino]}\")\n"
   ]
  },
  {
   "cell_type": "code",
   "execution_count": null,
   "metadata": {},
   "outputs": [],
   "source": []
  }
 ],
 "metadata": {
  "colab": {
   "provenance": []
  },
  "kernelspec": {
   "display_name": "Python 3 (ipykernel)",
   "language": "python",
   "name": "python3"
  },
  "language_info": {
   "codemirror_mode": {
    "name": "ipython",
    "version": 3
   },
   "file_extension": ".py",
   "mimetype": "text/x-python",
   "name": "python",
   "nbconvert_exporter": "python",
   "pygments_lexer": "ipython3",
   "version": "3.12.2"
  }
 },
 "nbformat": 4,
 "nbformat_minor": 4
}
